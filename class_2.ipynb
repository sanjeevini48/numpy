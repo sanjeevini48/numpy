{
 "cells": [
  {
   "cell_type": "code",
   "execution_count": 6,
   "metadata": {},
   "outputs": [],
   "source": [
    "class Dog:\n",
    "    \n",
    "    def __init__(self):\n",
    "        self.__energy = 10\n",
    "    def sleep(self):\n",
    "        self.__energy += 2\n",
    "    def bark(self):\n",
    "        self.__energy -= 1\n",
    "    def get_energy(self):\n",
    "        return self.__energy"
   ]
  },
  {
   "cell_type": "code",
   "execution_count": 5,
   "metadata": {},
   "outputs": [
    {
     "name": "stdout",
     "output_type": "stream",
     "text": [
      "10\n",
      "7\n",
      "9\n",
      "10\n"
     ]
    }
   ],
   "source": [
    "doge = Dog()\n",
    "print( doge.get_energy())\n",
    "\n",
    "doge.bark()\n",
    "doge.bark()\n",
    "doge.bark()\n",
    "print( doge.get_energy())\n",
    "\n",
    "doge.sleep()\n",
    "print (doge.get_energy()) \n",
    "\n",
    "another_doge = Dog()\n",
    "print( another_doge.get_energy())"
   ]
  },
  {
   "cell_type": "code",
   "execution_count": null,
   "metadata": {},
   "outputs": [],
   "source": []
  }
 ],
 "metadata": {
  "kernelspec": {
   "display_name": "Python 3",
   "language": "python",
   "name": "python3"
  },
  "language_info": {
   "codemirror_mode": {
    "name": "ipython",
    "version": 3
   },
   "file_extension": ".py",
   "mimetype": "text/x-python",
   "name": "python",
   "nbconvert_exporter": "python",
   "pygments_lexer": "ipython3",
   "version": "3.7.4"
  }
 },
 "nbformat": 4,
 "nbformat_minor": 2
}
