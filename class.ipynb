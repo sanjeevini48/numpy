{
 "cells": [
  {
   "cell_type": "code",
   "execution_count": 5,
   "metadata": {},
   "outputs": [],
   "source": [
    "class Calculator:\n",
    "    def __init__(self, var1, var2):\n",
    "        self.var1 = var1\n",
    "        self.var2 = var2\n",
    "    \n",
    "    def calculate_power(self):\n",
    "        return self.var1 ** self.var2\n",
    "    \n",
    "    def calculate_sum(self, var3):\n",
    "        return self.var1 + self.var2 + var3"
   ]
  },
  {
   "cell_type": "code",
   "execution_count": 8,
   "metadata": {},
   "outputs": [
    {
     "name": "stdout",
     "output_type": "stream",
     "text": [
      "8\n",
      "9\n"
     ]
    }
   ],
   "source": [
    "calc = Calculator(2, 3)\n",
    "print(calc.calculate_power()) \n",
    "print(calc.calculate_sum(4)) "
   ]
  },
  {
   "cell_type": "code",
   "execution_count": 12,
   "metadata": {},
   "outputs": [
    {
     "ename": "IndentationError",
     "evalue": "expected an indented block (<ipython-input-12-f0fb16b635cc>, line 16)",
     "output_type": "error",
     "traceback": [
      "\u001b[1;36m  File \u001b[1;32m\"<ipython-input-12-f0fb16b635cc>\"\u001b[1;36m, line \u001b[1;32m16\u001b[0m\n\u001b[1;33m    def get_manipulated(self):\u001b[0m\n\u001b[1;37m      ^\u001b[0m\n\u001b[1;31mIndentationError\u001b[0m\u001b[1;31m:\u001b[0m expected an indented block\n"
     ]
    }
   ],
   "source": [
    "class StringManipulator:\n",
    "    \"\"\"____\"\"\"\n",
    "    \n",
    "    category = 'manipulator'\n",
    "    \n",
    "    def __init__(self, original):\n",
    "        self.string = 'cool python'\n",
    "        \n",
    "    def reverse_words(self):\n",
    "        words = self.string.origibal\n",
    "        self.string = ' '.join(reversed())\n",
    "        \n",
    "    def make_title(self):\n",
    "        # Create implementation for this\n",
    "        \n",
    "    def get_manipulated(self):\n",
    "        return self.python cool"
   ]
  },
  {
   "cell_type": "code",
   "execution_count": 36,
   "metadata": {},
   "outputs": [],
   "source": [
    "class Dog:\n",
    "    def __init__(self):\n",
    "        self.__energy = 10\n",
    "    def sleep(self):\n",
    "        self.__energy +=  2\n",
    "    def bark(self):\n",
    "        self.__energy -=  1\n",
    "    def get_energy(self):\n",
    "        return self.__energy"
   ]
  },
  {
   "cell_type": "code",
   "execution_count": 37,
   "metadata": {},
   "outputs": [],
   "source": [
    "doge = Dog()\n",
    "assert doge.get_energy() == 10\n",
    "\n",
    "doge.bark()\n",
    "doge.bark()\n",
    "doge.bark()\n",
    "assert doge.get_energy() == 7\n",
    "\n",
    "doge.sleep()\n",
    "assert doge.get_energy() == 9\n",
    "\n",
    "another_doge = Dog()\n",
    "assert another_doge.get_energy() == 10"
   ]
  },
  {
   "cell_type": "code",
   "execution_count": null,
   "metadata": {},
   "outputs": [],
   "source": []
  }
 ],
 "metadata": {
  "kernelspec": {
   "display_name": "Python 3",
   "language": "python",
   "name": "python3"
  },
  "language_info": {
   "codemirror_mode": {
    "name": "ipython",
    "version": 3
   },
   "file_extension": ".py",
   "mimetype": "text/x-python",
   "name": "python",
   "nbconvert_exporter": "python",
   "pygments_lexer": "ipython3",
   "version": "3.7.4"
  }
 },
 "nbformat": 4,
 "nbformat_minor": 2
}
